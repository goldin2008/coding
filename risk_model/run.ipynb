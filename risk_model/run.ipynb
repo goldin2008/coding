{
 "cells": [
  {
   "cell_type": "code",
   "execution_count": null,
   "id": "db6e8cc5-5a4b-46a2-99d4-03fff2d802b6",
   "metadata": {},
   "outputs": [],
   "source": [
    "# pip install pandas numpy shap xgboost azure-ai-openai azure-identity tabulate\n",
    "# pip install -r requirements.txt"
   ]
  },
  {
   "cell_type": "code",
   "execution_count": 1,
   "id": "be74ab19-f84b-4fe1-9875-e77d8334e81f",
   "metadata": {},
   "outputs": [],
   "source": [
    "import sys\n",
    "import os\n",
    "\n",
    "# sys.path.append(\"../risk_model\")  # Adjust path as needed\n",
    "# sys.path.append(\"./risk_model\")\n",
    "# sys.path.append(os.path.dirname(os.getcwd()))"
   ]
  },
  {
   "cell_type": "code",
   "execution_count": 2,
   "id": "4f1513e2-3396-4f25-8414-11f50b3b6bd6",
   "metadata": {},
   "outputs": [
    {
     "data": {
      "text/plain": [
       "('/Users/leiyu/Projects/coding', '/Users/leiyu/Projects/coding/risk_model')"
      ]
     },
     "execution_count": 2,
     "metadata": {},
     "output_type": "execute_result"
    }
   ],
   "source": [
    "os.path.dirname(os.getcwd()), os.getcwd()"
   ]
  },
  {
   "cell_type": "markdown",
   "id": "18c198c1-3091-406e-89a2-b6968cf890ec",
   "metadata": {},
   "source": [
    "### 1. Load Libraries & Config"
   ]
  },
  {
   "cell_type": "code",
   "execution_count": 31,
   "id": "79ef11b6-2565-4383-abbc-839eda498aa0",
   "metadata": {},
   "outputs": [
    {
     "name": "stdout",
     "output_type": "stream",
     "text": [
      "The autoreload extension is already loaded. To reload it, use:\n",
      "  %reload_ext autoreload\n"
     ]
    }
   ],
   "source": [
    "# Import libraries\n",
    "%load_ext autoreload\n",
    "%autoreload 2\n",
    "\n",
    "import config\n",
    "import shap\n",
    "import pandas as pd\n",
    "from tabulate import tabulate\n",
    "from config import (\n",
    "    # AZURE_OPENAI_ENDPOINT,\n",
    "    # AZURE_OPENAI_API_KEY,\n",
    "    # DEPLOYMENT_NAME,\n",
    "    XGBOOST_PARAMS,\n",
    "    # NUM_SAMPLES,\n",
    "    # FRAUD_RATIO,\n",
    "    # FEATURE_LIBRARY_CSV_PATH,\n",
    "    # DUMMY_DATA_CSV,\n",
    "    # TOP_N_FEATURES,\n",
    "    # RISK_SCORE_DECIMALS,\n",
    "    # TEST_SIZE,\n",
    "    # RANDOM_STATE,\n",
    "    PLOT_SHAP_SUMMARY,\n",
    "    ENTITY_INDEX_FOR_EXPLANATION\n",
    ")\n",
    "from data.data_loader import (\n",
    "    generate_feature_library_csv,\n",
    "    # generate_dummy_dataset,\n",
    "    generate_and_save_aml_data,\n",
    "    load_dataset\n",
    ")\n",
    "from data.feature_library import load_feature_descriptions\n",
    "from model.trainer import train_xgboost\n",
    "from model.shap_utils import compute_shap_values, generate_shap_summary\n",
    "from narrative.prompt_generator import build_shap_explanation_prompt\n",
    "\n",
    "# from narrative.azure_openai_client import get_azure_openai_client, generate_narrative"
   ]
  },
  {
   "cell_type": "markdown",
   "id": "f96983ce-713f-4a74-8798-7c5841d23ae3",
   "metadata": {},
   "source": [
    "### 2. Generate Data"
   ]
  },
  {
   "cell_type": "code",
   "execution_count": 16,
   "id": "d4f2a59b-7797-4f41-a763-7258a96ac91c",
   "metadata": {},
   "outputs": [
    {
     "name": "stdout",
     "output_type": "stream",
     "text": [
      "✅ Feature library CSV saved to data/feature_library.csv\n",
      "✅ Feature library CSV generated at: data/feature_library.csv\n",
      "✅ Data generated and saved to data/aml_data.csv\n",
      "✅ Dummy dataset saved to: data/dummy_aml_data.csv\n",
      "✅ Dataset loaded from data/dummy_aml_data.csv with shape (1000, 31)\n",
      "X shape: (1000, 30)\n",
      "y shape: (1000,)\n",
      "Target distribution:\n",
      "risk_label\n",
      "0    700\n",
      "1    300\n",
      "Name: count, dtype: int64\n"
     ]
    }
   ],
   "source": [
    "# Step 1: Generate the feature library CSV file\n",
    "generate_feature_library_csv(config.DATA_PATHS[\"feature_library_csv\"])\n",
    "print(f\"✅ Feature library CSV generated at: {config.DATA_PATHS['feature_library_csv']}\")\n",
    "\n",
    "# Step 2: Generate dummy AML dataset and save to CSV\n",
    "dummy_df = generate_and_save_aml_data(\n",
    "    num_samples=config.DATA_GENERATION[\"num_samples\"],\n",
    "    fraud_ratio=config.DATA_GENERATION[\"fraud_ratio\"]\n",
    ")\n",
    "dummy_df.to_csv(config.DATA_PATHS[\"dummy_data_csv\"], index=False)\n",
    "print(f\"✅ Dummy dataset saved to: {config.DATA_PATHS['dummy_data_csv']}\")\n",
    "\n",
    "# Step 3: Load the dataset into features (X) and target labels (y)\n",
    "X, y = load_dataset(config.DATA_PATHS[\"dummy_data_csv\"])\n",
    "\n",
    "# Step 4: Display dataset shapes and target distribution\n",
    "print(f\"X shape: {X.shape}\")\n",
    "print(f\"y shape: {y.shape}\")\n",
    "print(\"Target distribution:\")\n",
    "print(y.value_counts())\n"
   ]
  },
  {
   "cell_type": "markdown",
   "id": "a90477b1-b7e2-4892-a9ff-55957ce35f89",
   "metadata": {},
   "source": [
    "### 3. Train Model"
   ]
  },
  {
   "cell_type": "code",
   "execution_count": 17,
   "id": "eeb2021b-8aec-4219-b14d-f96f8ac47f93",
   "metadata": {},
   "outputs": [],
   "source": [
    "# Train XGBoost model\n",
    "model, X_test = train_xgboost(X, y, XGBOOST_PARAMS)"
   ]
  },
  {
   "cell_type": "markdown",
   "id": "18097443-8426-485d-a8e7-b3febc394509",
   "metadata": {},
   "source": [
    "### 4. Explain One Example"
   ]
  },
  {
   "cell_type": "code",
   "execution_count": 18,
   "id": "b0fa4691-a6ed-4d75-afcf-7942aeb56626",
   "metadata": {},
   "outputs": [
    {
     "data": {
      "text/plain": [
       "np.float32(0.09062799)"
      ]
     },
     "execution_count": 18,
     "metadata": {},
     "output_type": "execute_result"
    }
   ],
   "source": [
    "# Choose an entity to explain\n",
    "entity_index = ENTITY_INDEX_FOR_EXPLANATION\n",
    "entity_features = X_test.iloc[[entity_index]]\n",
    "\n",
    "# Predict risk score (probability)\n",
    "risk_score = model.predict_proba(entity_features)[0, 1]\n",
    "risk_score"
   ]
  },
  {
   "cell_type": "markdown",
   "id": "c7bd2f43-5e11-4dff-9937-990b196be245",
   "metadata": {},
   "source": [
    "### 5. Compute SHAP Values"
   ]
  },
  {
   "cell_type": "code",
   "execution_count": null,
   "id": "9bfc6b68-d390-4109-b1b6-9b05184751f7",
   "metadata": {},
   "outputs": [],
   "source": [
    "# Get SHAP values for the entity\n",
    "top_features, shap_values = compute_shap_values(\n",
    "    model,\n",
    "    X,\n",
    "    entity_features,\n",
    "    top_n=config.SHAP_CONFIG[\"top_n_features\"],\n",
    "    plot=config.PLOT_SHAP_SUMMARY\n",
    ")"
   ]
  },
  {
   "cell_type": "code",
   "execution_count": null,
   "id": "a3f762de-0992-4dad-b26e-71a06e73f493",
   "metadata": {
    "scrolled": true
   },
   "outputs": [],
   "source": [
    "top_features"
   ]
  },
  {
   "cell_type": "code",
   "execution_count": null,
   "id": "82a9f7be-f01f-422c-9086-c79b9080cb54",
   "metadata": {},
   "outputs": [],
   "source": [
    "shap_values.shape"
   ]
  },
  {
   "cell_type": "code",
   "execution_count": null,
   "id": "f47eb266-e85a-49f0-9c6e-0e5139c2b2bf",
   "metadata": {
    "scrolled": true
   },
   "outputs": [],
   "source": [
    "generate_shap_summary(model, X, plot_summary=True)"
   ]
  },
  {
   "cell_type": "markdown",
   "id": "e62dc1f6-a617-4b34-a4c2-79ab8e11ab5c",
   "metadata": {},
   "source": [
    "### 6. Load Feature Descriptions"
   ]
  },
  {
   "cell_type": "code",
   "execution_count": null,
   "id": "8fc528ca-3c3f-4cc1-844a-3b87aba0c8df",
   "metadata": {},
   "outputs": [],
   "source": [
    "feature_descriptions = load_feature_descriptions(feature_names=X.columns)"
   ]
  },
  {
   "cell_type": "markdown",
   "id": "c2f53d34-4874-4677-ad4c-966fe232309f",
   "metadata": {},
   "source": [
    "### 7. Build Prompt"
   ]
  },
  {
   "cell_type": "code",
   "execution_count": null,
   "id": "ad25ca4d-f733-4955-b095-e127db4b8845",
   "metadata": {},
   "outputs": [],
   "source": [
    "prompt = build_shap_explanation_prompt(risk_score, top_features, feature_descriptions)\n",
    "print(\"=== Prompt to LLM ===\")\n",
    "print(prompt)"
   ]
  },
  {
   "cell_type": "markdown",
   "id": "2fbc07cd-afec-477c-b479-7941945c5a63",
   "metadata": {},
   "source": [
    "### 8. Call Azure OpenAI"
   ]
  },
  {
   "cell_type": "code",
   "execution_count": null,
   "id": "65e8be1d-3c6d-4c72-ba5c-27fbf6e1e4e2",
   "metadata": {},
   "outputs": [],
   "source": [
    "client = get_azure_openai_client(AZURE_OPENAI_ENDPOINT)\n",
    "narrative = generate_narrative(client, DEPLOYMENT_NAME, prompt)\n",
    "print(\"=== LLM Narrative ===\")\n",
    "print(narrative)"
   ]
  },
  {
   "cell_type": "markdown",
   "id": "60ac5a27-e20a-4d4e-a785-0cdbad48ad55",
   "metadata": {},
   "source": [
    "### 9. Summarize"
   ]
  },
  {
   "cell_type": "code",
   "execution_count": null,
   "id": "252c9b07-d90a-471c-93a4-dd5097a877bb",
   "metadata": {},
   "outputs": [],
   "source": [
    "summary_table = pd.DataFrame({\n",
    "    \"Entity Index\": [entity_index],\n",
    "    \"Predicted Risk Score (%)\": [round(risk_score * 100, 2)],\n",
    "    \"Top Features\": [\", \".join(top_features['Feature'])],\n",
    "    \"Narrative\": [prompt],\n",
    "    \"Evaluation Score\": [\"N/A (manual review recommended)\"]\n",
    "})\n",
    "\n",
    "print(tabulate(summary_table, headers=\"keys\", tablefmt=\"fancy_grid\", showindex=False))"
   ]
  },
  {
   "cell_type": "code",
   "execution_count": null,
   "id": "1a14a96d-4912-47a1-9406-368392253a29",
   "metadata": {},
   "outputs": [],
   "source": []
  },
  {
   "cell_type": "markdown",
   "id": "d53708c9-3210-482d-a8e1-d4bb11f13e1e",
   "metadata": {},
   "source": [
    "| Step                                         | Technique                                         | LLM Prompt Strategy                                        |\n",
    "| -------------------------------------------- | ------------------------------------------------- | ---------------------------------------------------------- |\n",
    "| 1️⃣ Summarize top features                   | Frequency count of top N SHAP features per sample | Provide the LLM with feature counts and ask for insights   |\n",
    "| 2️⃣ Identify consistent high-impact features | Mean absolute SHAP values                         | Ask LLM why these features might consistently be impactful |\n",
    "| 3️⃣ Generate hypotheses                      | Combine top features with domain context          | Ask LLM to hypothesize links to business processes         |\n",
    "| 4️⃣ Cluster explanations                     | Cluster mean SHAP values                          | Ask LLM to explain clusters and suggest drivers            |\n",
    "| 5️⃣ Suggest actions                          | Combine features + SHAP values + business context | Prompt LLM for recommended actions and next steps          |\n"
   ]
  },
  {
   "cell_type": "markdown",
   "id": "190a661b-2181-4e7c-9aca-5cf9c88600bc",
   "metadata": {},
   "source": [
    "| Step | Function                         | Input                                        | Output          |\n",
    "| ---- | -------------------------------- | -------------------------------------------- | --------------- |\n",
    "| 1️⃣  | shap.Explainer                   | model, X\\_test                               | shap\\_values    |\n",
    "| 2️⃣  | summarize\\_top\\_features         | shap\\_values, X\\_test                        | summary\\_df     |\n",
    "| 3️⃣  | identify\\_high\\_impact\\_features | shap\\_values, X\\_test                        | mean\\_abs\\_shap |\n",
    "| 4️⃣  | cluster\\_features                | mean\\_abs\\_shap, n\\_clusters                 | clusters\\_df    |\n",
    "| 5️⃣  | build\\_llm\\_prompt\\_\\*           | summary\\_df / clusters\\_df / mean\\_abs\\_shap | prompt strings  |\n",
    "\n",
    "- Summarize Top Features\n",
    "Goal: Find which features most frequently appear in the top N most impactful features across all test samples.\n",
    "\n",
    "What it does:\n",
    "For each row (sample) in X_test, it ranks features by absolute SHAP value.\n",
    "\n",
    "Counts how often each feature shows up in the top top_n features.\n",
    "\n",
    "Returns a DataFrame showing each feature’s name and its frequency.\n",
    "\n",
    "\n",
    "- Identify High-Impact Features\n",
    "Goal: Find features with the highest mean absolute SHAP value across all samples.\n",
    "\n",
    "What it does:\n",
    "Computes the mean of the absolute SHAP values for each feature across all samples.\n",
    "\n",
    "Ranks features from most to least impactful on average.\n",
    "\n",
    "- Cluster Features\n",
    "Goal: Group features into clusters based on their mean absolute SHAP values using KMeans.\n",
    "\n",
    "What it does:\n",
    "Reshapes mean absolute SHAP values into a 2D array.\n",
    "\n",
    "Applies KMeans to cluster features into n_clusters.\n",
    "\n",
    "Returns a DataFrame with feature names, mean SHAP values, and cluster labels.\n",
    "\n",
    "\n",
    "- Build LLM Prompts\n",
    "This is where you integrate with an LLM like GPT (via Azure OpenAI or OpenAI API). You want to generate human-readable explanations or business action recommendations.\n",
    "\n",
    "  - 5.1 Hypotheses for Top Features\n",
    "Goal: Ask the LLM why each feature might influence the risk score.\n",
    "\n",
    "  - 5.2 Cluster Explanations\n",
    "Goal: Ask the LLM to interpret why features in each cluster might share similar risk signals.\n",
    "\n",
    "  - 5.3 Action Suggestions\n",
    "Goal: Ask the LLM to recommend business actions (investigations, data checks, policy improvements).\n",
    "\n"
   ]
  },
  {
   "cell_type": "markdown",
   "id": "c95c1590-5c06-48d4-a6c1-868c3971372d",
   "metadata": {},
   "source": [
    "#### for single data point"
   ]
  },
  {
   "cell_type": "code",
   "execution_count": 39,
   "id": "8cb102c7-ad9f-4cf2-813d-c0b4ec8eb52c",
   "metadata": {},
   "outputs": [
    {
     "data": {
      "image/png": "[encoded data removed]",
      "text/plain": [
       "<Figure size 800x650 with 1 Axes>"
      ]
     },
     "metadata": {},
     "output_type": "display_data"
    },
    {
     "name": "stdout",
     "output_type": "stream",
     "text": [
      "                          Feature  SHAP Value  Abs SHAP Value\n",
      "14            cash_withdrawal_amt   -0.062393        0.062393\n",
      "18                   customer_age    0.054946        0.054946\n",
      "3                 max_wire_amount   -0.053420        0.053420\n",
      "19                 account_tenure   -0.052096        0.052096\n",
      "8   suspicious_counterparty_score   -0.037555        0.037555\n",
      "20                 txn_amount_std   -0.035925        0.035925\n",
      "7             same_day_wire_ratio   -0.024671        0.024671\n",
      "1                      wireout_ct   -0.019698        0.019698\n",
      "22        international_txn_ratio   -0.015757        0.015757\n",
      "13               cash_deposit_amt   -0.015359        0.015359\n"
     ]
    }
   ],
   "source": [
    "single_row = X_test.iloc[[0]]  # Note the double brackets to keep it a DataFrame\n",
    "top_features, shap_values = compute_shap_values(model, X, single_row)\n",
    "print(top_features)"
   ]
  },
  {
   "cell_type": "markdown",
   "id": "e8a518c3-8653-4a54-965e-04d79c679c24",
   "metadata": {},
   "source": [
    "#### for multiple data points"
   ]
  },
  {
   "cell_type": "code",
   "execution_count": 40,
   "id": "a42dc609-dbc9-40b8-9f08-ea224e603ee0",
   "metadata": {},
   "outputs": [
    {
     "data": {
      "image/png": "[encoded data removed]",
      "text/plain": [
       "<Figure size 800x650 with 1 Axes>"
      ]
     },
     "metadata": {},
     "output_type": "display_data"
    },
    {
     "name": "stdout",
     "output_type": "stream",
     "text": [
      "                            Feature  Mean Abs SHAP Value\n",
      "0               cash_withdrawal_amt             0.037082\n",
      "1            betweenness_centrality             0.032926\n",
      "2                 degree_centrality             0.032506\n",
      "3  perc_wire_from_high_risk_country             0.032179\n",
      "4               same_day_wire_ratio             0.029349\n",
      "5                  cash_deposit_amt             0.029096\n",
      "6                     txn_frequency             0.024750\n",
      "7         num_failed_login_attempts             0.023262\n",
      "8                    txn_amount_std             0.022915\n",
      "9                   avg_wire_amount             0.022706\n"
     ]
    }
   ],
   "source": [
    "top_features, shap_values = compute_shap_values(model, X, X_test)\n",
    "print(top_features)"
   ]
  },
  {
   "cell_type": "code",
   "execution_count": 41,
   "id": "67ae5214-b1fb-42c1-aee4-a781278a3739",
   "metadata": {},
   "outputs": [
    {
     "data": {
      "text/plain": [
       "(10, 2)"
      ]
     },
     "execution_count": 41,
     "metadata": {},
     "output_type": "execute_result"
    }
   ],
   "source": [
    "top_features.shape"
   ]
  },
  {
   "cell_type": "code",
   "execution_count": 42,
   "id": "a07ad8c9-a0b0-4551-af92-063e04659399",
   "metadata": {},
   "outputs": [
    {
     "data": {
      "text/plain": [
       "(200, 30)"
      ]
     },
     "execution_count": 42,
     "metadata": {},
     "output_type": "execute_result"
    }
   ],
   "source": [
    "shap_values.shape"
   ]
  },
  {
   "cell_type": "markdown",
   "id": "7d759ef2-1ed7-4d41-8b36-aac09509d7c6",
   "metadata": {},
   "source": [
    "### shap values analysis"
   ]
  },
  {
   "cell_type": "code",
   "execution_count": 43,
   "id": "e2b36cd6-b278-4596-b4fe-cdbb6d09c351",
   "metadata": {},
   "outputs": [],
   "source": [
    "import model.shap_analysis as sa\n",
    "\n",
    "# Use these functions:\n",
    "summary = sa.summarize_top_features(shap_values, X_test, top_n=10)\n",
    "mean_abs = sa.identify_high_impact_features(shap_values, X_test)\n",
    "clusters = sa.cluster_features(mean_abs, n_clusters=3)"
   ]
  },
  {
   "cell_type": "code",
   "execution_count": 44,
   "id": "8711e832-924a-4a07-8f2d-381732ecf228",
   "metadata": {},
   "outputs": [
    {
     "name": "stdout",
     "output_type": "stream",
     "text": [
      "                             Feature  Frequency\n",
      "0                cash_withdrawal_amt        164\n",
      "11  perc_wire_from_high_risk_country        148\n",
      "14                 degree_centrality        142\n",
      "6                same_day_wire_ratio        141\n",
      "15                     txn_frequency        133\n",
      "13         num_failed_login_attempts        129\n",
      "10            betweenness_centrality        127\n",
      "9                   cash_deposit_amt        123\n",
      "2                    max_wire_amount        117\n",
      "5                     txn_amount_std        113\n",
      "12                   avg_wire_amount        102\n",
      "4      suspicious_counterparty_score         88\n",
      "3                     account_tenure         75\n",
      "17    perc_wire_to_high_risk_country         69\n",
      "19            clustering_coefficient         54\n",
      "1                       customer_age         52\n",
      "20          num_unusual_txn_patterns         40\n",
      "8            international_txn_ratio         39\n",
      "7                         wireout_ct         28\n",
      "18      num_high_risk_counterparties         28\n",
      "16                         wirein_ct         22\n",
      "23                     past_sar_flag         15\n",
      "22               num_large_cash_txns         14\n",
      "21        recent_address_change_flag         12\n",
      "25              num_credit_card_txns         12\n",
      "24           num_new_accounts_opened         11\n",
      "26                          pep_flag          1\n",
      "27         recent_device_change_flag          1\n",
      "cash_withdrawal_amt                 0.037082\n",
      "betweenness_centrality              0.032926\n",
      "degree_centrality                   0.032506\n",
      "perc_wire_from_high_risk_country    0.032179\n",
      "same_day_wire_ratio                 0.029349\n",
      "cash_deposit_amt                    0.029096\n",
      "txn_frequency                       0.024750\n",
      "num_failed_login_attempts           0.023262\n",
      "txn_amount_std                      0.022915\n",
      "avg_wire_amount                     0.022706\n",
      "max_wire_amount                     0.020124\n",
      "perc_wire_to_high_risk_country      0.018354\n",
      "suspicious_counterparty_score       0.017220\n",
      "customer_age                        0.014394\n",
      "account_tenure                      0.014054\n",
      "clustering_coefficient              0.012809\n",
      "international_txn_ratio             0.009671\n",
      "num_unusual_txn_patterns            0.009266\n",
      "wireout_ct                          0.008715\n",
      "num_high_risk_counterparties        0.007273\n",
      "wirein_ct                           0.007050\n",
      "recent_address_change_flag          0.006966\n",
      "past_sar_flag                       0.006639\n",
      "num_large_cash_txns                 0.006097\n",
      "num_credit_card_txns                0.005846\n",
      "pep_flag                            0.005087\n",
      "num_new_accounts_opened             0.004538\n",
      "recent_device_change_flag           0.002556\n",
      "kyc_flag                            0.001280\n",
      "num_sar_filings                     0.000515\n",
      "dtype: float64\n",
      "                             Feature  Mean Abs SHAP  Cluster\n",
      "14                    account_tenure       0.014054        0\n",
      "15            clustering_coefficient       0.012809        0\n",
      "13                      customer_age       0.014394        0\n",
      "12     suspicious_counterparty_score       0.017220        0\n",
      "11    perc_wire_to_high_risk_country       0.018354        0\n",
      "10                   max_wire_amount       0.020124        0\n",
      "8                     txn_amount_std       0.022915        0\n",
      "9                    avg_wire_amount       0.022706        0\n",
      "6                      txn_frequency       0.024750        0\n",
      "7          num_failed_login_attempts       0.023262        0\n",
      "20                         wirein_ct       0.007050        1\n",
      "23               num_large_cash_txns       0.006097        1\n",
      "24              num_credit_card_txns       0.005846        1\n",
      "25                          pep_flag       0.005087        1\n",
      "26           num_new_accounts_opened       0.004538        1\n",
      "22                     past_sar_flag       0.006639        1\n",
      "27         recent_device_change_flag       0.002556        1\n",
      "21        recent_address_change_flag       0.006966        1\n",
      "19      num_high_risk_counterparties       0.007273        1\n",
      "29                   num_sar_filings       0.000515        1\n",
      "17          num_unusual_txn_patterns       0.009266        1\n",
      "16           international_txn_ratio       0.009671        1\n",
      "28                          kyc_flag       0.001280        1\n",
      "18                        wireout_ct       0.008715        1\n",
      "5                   cash_deposit_amt       0.029096        2\n",
      "4                same_day_wire_ratio       0.029349        2\n",
      "3   perc_wire_from_high_risk_country       0.032179        2\n",
      "2                  degree_centrality       0.032506        2\n",
      "1             betweenness_centrality       0.032926        2\n",
      "0                cash_withdrawal_amt       0.037082        2\n"
     ]
    }
   ],
   "source": [
    "print(summary)\n",
    "print(mean_abs)\n",
    "print(clusters)"
   ]
  },
  {
   "cell_type": "code",
   "execution_count": 45,
   "id": "13e349ac-8920-4d91-a10e-e2f96ca99b81",
   "metadata": {},
   "outputs": [],
   "source": [
    "hypothesis_prompt = sa.build_llm_prompt_for_hypotheses(summary[\"Feature\"].tolist())\n",
    "cluster_prompt = sa.build_llm_prompt_for_cluster_explanations(clusters)\n",
    "action_prompt = sa.build_llm_prompt_for_action_suggestions(summary[\"Feature\"].tolist(), mean_abs)"
   ]
  },
  {
   "cell_type": "code",
   "execution_count": 46,
   "id": "c4aa7d61-0ca8-4627-97a3-ee738593fe3f",
   "metadata": {},
   "outputs": [
    {
     "name": "stdout",
     "output_type": "stream",
     "text": [
      "You are a risk model explanation assistant. Given the following features that frequently contribute to high risk scores:\n",
      "\n",
      "- cash_withdrawal_amt\n",
      "- perc_wire_from_high_risk_country\n",
      "- degree_centrality\n",
      "- same_day_wire_ratio\n",
      "- txn_frequency\n",
      "- num_failed_login_attempts\n",
      "- betweenness_centrality\n",
      "- cash_deposit_amt\n",
      "- max_wire_amount\n",
      "- txn_amount_std\n",
      "- avg_wire_amount\n",
      "- suspicious_counterparty_score\n",
      "- account_tenure\n",
      "- perc_wire_to_high_risk_country\n",
      "- clustering_coefficient\n",
      "- customer_age\n",
      "- num_unusual_txn_patterns\n",
      "- international_txn_ratio\n",
      "- wireout_ct\n",
      "- num_high_risk_counterparties\n",
      "- wirein_ct\n",
      "- past_sar_flag\n",
      "- num_large_cash_txns\n",
      "- recent_address_change_flag\n",
      "- num_credit_card_txns\n",
      "- num_new_accounts_opened\n",
      "- pep_flag\n",
      "- recent_device_change_flag\n",
      "\n",
      "For each feature:\n",
      "- Explain why it might influence the risk score in an AML context.\n",
      "- Suggest potential data quality issues or business processes that might cause this feature to be flagged.\n",
      "\n",
      "You are a risk model explanation assistant. Given the following clusters of features, please explain why the features in each cluster might share similar risk signals and suggest possible underlying business drivers:\n",
      "\n",
      "- Cluster 0: account_tenure, clustering_coefficient, customer_age, suspicious_counterparty_score, perc_wire_to_high_risk_country, max_wire_amount, txn_amount_std, avg_wire_amount, txn_frequency, num_failed_login_attempts\n",
      "- Cluster 1: wirein_ct, num_large_cash_txns, num_credit_card_txns, pep_flag, num_new_accounts_opened, past_sar_flag, recent_device_change_flag, recent_address_change_flag, num_high_risk_counterparties, num_sar_filings, num_unusual_txn_patterns, international_txn_ratio, kyc_flag, wireout_ct\n",
      "- Cluster 2: cash_deposit_amt, same_day_wire_ratio, perc_wire_from_high_risk_country, degree_centrality, betweenness_centrality, cash_withdrawal_amt\n",
      "\n",
      "You are a risk model explanation assistant. Here are the top features contributing to high risk scores, along with their mean SHAP values:\n",
      "\n",
      "- cash_withdrawal_amt: 0.0371\n",
      "- perc_wire_from_high_risk_country: 0.0322\n",
      "- degree_centrality: 0.0325\n",
      "- same_day_wire_ratio: 0.0293\n",
      "- txn_frequency: 0.0248\n",
      "- num_failed_login_attempts: 0.0233\n",
      "- betweenness_centrality: 0.0329\n",
      "- cash_deposit_amt: 0.0291\n",
      "- max_wire_amount: 0.0201\n",
      "- txn_amount_std: 0.0229\n",
      "- avg_wire_amount: 0.0227\n",
      "- suspicious_counterparty_score: 0.0172\n",
      "- account_tenure: 0.0141\n",
      "- perc_wire_to_high_risk_country: 0.0184\n",
      "- clustering_coefficient: 0.0128\n",
      "- customer_age: 0.0144\n",
      "- num_unusual_txn_patterns: 0.0093\n",
      "- international_txn_ratio: 0.0097\n",
      "- wireout_ct: 0.0087\n",
      "- num_high_risk_counterparties: 0.0073\n",
      "- wirein_ct: 0.0071\n",
      "- past_sar_flag: 0.0066\n",
      "- num_large_cash_txns: 0.0061\n",
      "- recent_address_change_flag: 0.007\n",
      "- num_credit_card_txns: 0.0058\n",
      "- num_new_accounts_opened: 0.0045\n",
      "- pep_flag: 0.0051\n",
      "- recent_device_change_flag: 0.0026\n",
      "\n",
      "For each feature, recommend:\n",
      "- Investigative focus areas\n",
      "- Data quality checks\n",
      "- Policy or process improvements\n",
      "\n"
     ]
    }
   ],
   "source": [
    "print(hypothesis_prompt)\n",
    "print(cluster_prompt)\n",
    "print(action_prompt)"
   ]
  },
  {
   "cell_type": "code",
   "execution_count": null,
   "id": "5e2dd447-c994-41eb-ba6c-56400bf38daa",
   "metadata": {},
   "outputs": [],
   "source": [
    "import llm_utils\n",
    "\n",
    "# Example prompt from shap_analysis:\n",
    "prompt = \"Explain why feature_A might contribute to risk in AML.\"\n",
    "\n",
    "# Send to the LLM:\n",
    "response = llm_utils.send_prompt_to_llm(prompt)\n",
    "\n",
    "print(\"📝 LLM Response:\")\n",
    "print(response)"
   ]
  },
  {
   "cell_type": "code",
   "execution_count": 47,
   "id": "a8f3e559-f6ed-4cc7-8dc7-8b776847b96d",
   "metadata": {},
   "outputs": [
    {
     "name": "stdout",
     "output_type": "stream",
     "text": [
      "\n",
      "==================================================\n",
      "Prompt: Tell me about the latest technology trends.\n",
      "\n",
      "LLM Response: \n",
      "response: Tell me about the latest technology trends.\n",
      "==================================================\n",
      "\n",
      "\n",
      "==================================================\n",
      "Prompt: What's the weather like in San Francisco today?\n",
      "\n",
      "LLM Response: \n",
      "response: What's the weather like in San Francisco today?\n",
      "==================================================\n",
      "\n",
      "\n",
      "==================================================\n",
      "Prompt: how's the traffic in Nework city on weekdays.\n",
      "\n",
      "LLM Response: \n",
      "response: how's the traffic in Nework city on weekdays.\n",
      "==================================================\n",
      "\n"
     ]
    }
   ],
   "source": [
    "# from narrative.azure_openai_client import AzureClient\n",
    "\n",
    "# azure_client = AzureClient()\n",
    "\n",
    "# Example prompt from shap_analysis:\n",
    "prompts = {\n",
    "    \"how's the traffic in Nework city on weekdays.\",\n",
    "    \"What's the weather like in San Francisco today?\",\n",
    "    \"Tell me about the latest technology trends.\",\n",
    "}\n",
    "\n",
    "\n",
    "# for prompt in prompts:\n",
    "#     response = azure_client.get_response(prompt)\n",
    "#     print(\"LLM Response:\")\n",
    "#     print(f\"Response for prompt \"{prompt)\": (response]\")\n",
    "\n",
    "for prompt in prompts:\n",
    "    print(\"\\n\" + \"=\"*50) # Separator for readability\n",
    "    print(f\"Prompt: {prompt}\")\n",
    "    # response = azure_client.get_response(prompt)\n",
    "    response = f\"response: {prompt}\"\n",
    "    print(\"\\nLLM Response: \")\n",
    "    print(response)\n",
    "    print(\"=\"*50 + \"\\n\") # End separator"
   ]
  },
  {
   "cell_type": "code",
   "execution_count": null,
   "id": "5109fcab-35a5-4af7-a4bb-f2dee3370e7a",
   "metadata": {},
   "outputs": [],
   "source": [
    "from narrative.prompt_generator import build_feature_contribution_prompt\n",
    "\n",
    "# Assume you already have:\n",
    "# - feature_score_df\n",
    "# - feature_library_df\n",
    "# - risk_score_df\n",
    "\n",
    "prompt_text = build_feature_contribution_prompt(\n",
    "    feature_score_df,\n",
    "    feature_library_df,\n",
    "    risk_score_df\n",
    ")\n",
    "\n",
    "print(\"=== Prompt Text ===\")\n",
    "print(prompt_text)"
   ]
  },
  {
   "cell_type": "code",
   "execution_count": null,
   "id": "0c4aad85-925a-46a4-9a36-395c66905cea",
   "metadata": {},
   "outputs": [],
   "source": []
  },
  {
   "cell_type": "code",
   "execution_count": null,
   "id": "e8eb0976-a48e-4f59-af21-33b9c452ec65",
   "metadata": {},
   "outputs": [],
   "source": []
  },
  {
   "cell_type": "code",
   "execution_count": null,
   "id": "3badfb36-369a-4f21-894f-899ac5e81041",
   "metadata": {},
   "outputs": [],
   "source": []
  },
  {
   "cell_type": "code",
   "execution_count": null,
   "id": "712c4f1b-8e92-464a-ac29-1d04bdfd2fb6",
   "metadata": {},
   "outputs": [],
   "source": []
  }
 ],
 "metadata": {
  "kernelspec": {
   "display_name": "Python 3 (ipykernel)",
   "language": "python",
   "name": "python3"
  },
  "language_info": {
   "codemirror_mode": {
    "name": "ipython",
    "version": 3
   },
   "file_extension": ".py",
   "mimetype": "text/x-python",
   "name": "python",
   "nbconvert_exporter": "python",
   "pygments_lexer": "ipython3",
   "version": "3.10.18"
  }
 },
 "nbformat": 4,
 "nbformat_minor": 5
}
