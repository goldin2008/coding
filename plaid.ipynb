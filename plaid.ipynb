{
 "cells": [
  {
   "cell_type": "markdown",
   "id": "dbf74e81-5ddc-408c-8318-de9c39e02201",
   "metadata": {},
   "source": [
    "routing_num, bank_name, bank_id\n",
    "\n",
    "many to many : name to id\n",
    "\n",
    "aannadi@plaid.com"
   ]
  },
  {
   "cell_type": "code",
   "execution_count": 5,
   "id": "34bd4212-735f-4fd6-908d-cf80875ce9a5",
   "metadata": {},
   "outputs": [],
   "source": [
    "rn_to_name = {\n",
    "    \"123\": \"Wells Fargo\",\n",
    "    \"456\": \"Chase\",\n",
    "    \"789\": \"Capital One\",\n",
    "    \"555\": \"First State Bank\",\n",
    "}\n",
    "\n",
    "name_to_bank_id = [\n",
    "  # There are multiple common ways to write the name of this bank\n",
    "  (\"Wells Fargo\", 1),\n",
    "  (\"Wells\", 1),\n",
    "\n",
    "  (\"Chase\", 2),\n",
    "  (\"Capital One\", 3),\n",
    "  (\"Bank of America\", 4),\n",
    "\n",
    "  # These are two different banks with the same name\n",
    "  (\"First State Bank\", 5),\n",
    "  (\"First State Bank\", 6),\n",
    "]\n"
   ]
  },
  {
   "cell_type": "code",
   "execution_count": 6,
   "id": "c76d0a04-df4e-42c8-8a99-7c5538940e78",
   "metadata": {},
   "outputs": [],
   "source": [
    "from typing import Dict, List, Tuple\n",
    "from collections import defaultdict\n",
    "\n",
    "# create_routing_number_mapping combines a map from routing number to bank name with a list of relationships between\n",
    "# bank names and bank IDs to create a single map with routing numbers as keys and a list of related bank IDs as values.\n",
    "# def create_routing_number_mapping(rn_to_name: Dict[str, str], name_to_bank_id: List[Tuple[str, int]]) -> Dict[str, List[int]]:\n",
    "#   pass\n",
    "# 123 -> 1\n",
    "# 456 -> 2\n",
    "# 789 -> 3\n",
    "# 555 -> 5,6\n",
    "\n",
    "def create_routing_number_mapping(rn_to_name: Dict[str, str], name_to_bank_id: List[Tuple[str, int]]) -> Dict[str, List[int]]:\n",
    "    name_to_ids = defaultdict(list)\n",
    "    for name, bank_id in  name_to_bank_id:\n",
    "        name_to_ids[name].append(bank_id)\n",
    "\n",
    "    rn_to_bank_ids = {}\n",
    "    for rn, bank_name in rn_to_name.items():\n",
    "        bank_ids =  name_to_ids.get(bank_name, [])\n",
    "        rn_to_bank_ids[rn] = bank_ids\n",
    "\n",
    "    return rn_to_bank_ids"
   ]
  },
  {
   "cell_type": "code",
   "execution_count": 7,
   "id": "569b6547-5c28-4f02-9564-bbcd9998898d",
   "metadata": {},
   "outputs": [
    {
     "data": {
      "text/plain": [
       "{'123': [1], '456': [2], '789': [3], '555': [5, 6], '444': []}"
      ]
     },
     "execution_count": 7,
     "metadata": {},
     "output_type": "execute_result"
    }
   ],
   "source": [
    "create_routing_number_mapping(rn_to_name, name_to_bank_id)"
   ]
  },
  {
   "cell_type": "code",
   "execution_count": null,
   "id": "9b1404e4-82a7-4a8a-833d-ce6003a94a45",
   "metadata": {},
   "outputs": [],
   "source": [
    "rn_to_name = [\n",
    "  {\n",
    "    \"123\": \"Wells Fargo\",\n",
    "    \"456\": \"Chase\",\n",
    "  },\n",
    "  {\n",
    "    \"123\": \"Wells\",\n",
    "    \"789\": \"Capital One\",\n",
    "    \"456\": \"Bank of America\",\n",
    "  },\n",
    "  {\n",
    "    \"123\": \"Bank of America\",\n",
    "    \"456\": \"Chase\",\n",
    "  },\n",
    "]\n",
    "\n",
    "output = {'123': [1, 4], '456': [2, 4], '789': [3]}"
   ]
  },
  {
   "cell_type": "code",
   "execution_count": 19,
   "id": "c40f332d-b079-4766-a404-33bb3dd3a9ab",
   "metadata": {},
   "outputs": [],
   "source": [
    "from collections import Counter\n",
    "\n",
    "def create_routing_number_mapping(rn_to_name: List[Dict[str, str]], name_to_bank_id: List[Tuple[str, int]]) -> Dict[str, List[int]]:\n",
    "    name_to_ids = defaultdict(list)\n",
    "    \n",
    "    for name, bank_id in  name_to_bank_id:\n",
    "        name_to_ids[name].append(bank_id)\n",
    "\n",
    "    rn_to_bank_ids = defaultdict(list)\n",
    "\n",
    "    for dic in rn_to_name:\n",
    "        for rn, bank_name in dic.items():\n",
    "            bank_ids =  name_to_ids.get(bank_name, [])\n",
    "            rn_to_bank_ids[rn].extend(bank_ids)\n",
    "\n",
    "    res = defaultdict(list)\n",
    "\n",
    "    # print(rn_to_bank_ids)\n",
    "    \n",
    "    for rn, ids in rn_to_bank_ids.items():\n",
    "        count = Counter(ids)\n",
    "        for num, count in count.items():\n",
    "            res[rn].append(num)\n",
    "    return res"
   ]
  },
  {
   "cell_type": "code",
   "execution_count": 20,
   "id": "ae099bf6-f571-4a52-99a7-078b3ec5f6ca",
   "metadata": {},
   "outputs": [],
   "source": [
    "rn_to_name = [\n",
    "  {\n",
    "    \"123\": \"Wells Fargo\",\n",
    "    \"456\": \"Chase\",\n",
    "  },\n",
    "  {\n",
    "    \"123\": \"Wells\",\n",
    "    \"789\": \"Capital One\",\n",
    "    \"456\": \"Bank of America\",\n",
    "  },\n",
    "  {\n",
    "    \"123\": \"Bank of America\",\n",
    "    \"456\": \"Chase\",\n",
    "  },\n",
    "]"
   ]
  },
  {
   "cell_type": "code",
   "execution_count": 21,
   "id": "8e49dc30-bba0-47c7-8efc-a3289f2ce0fd",
   "metadata": {},
   "outputs": [
    {
     "data": {
      "text/plain": [
       "defaultdict(list, {'123': [1, 4], '456': [2, 4], '789': [3]})"
      ]
     },
     "execution_count": 21,
     "metadata": {},
     "output_type": "execute_result"
    }
   ],
   "source": [
    "create_routing_number_mapping(rn_to_name, name_to_bank_id)"
   ]
  },
  {
   "cell_type": "code",
   "execution_count": null,
   "id": "287c8b52-d385-4d73-8596-f1f880938263",
   "metadata": {},
   "outputs": [],
   "source": []
  }
 ],
 "metadata": {
  "kernelspec": {
   "display_name": "Python 3 (ipykernel)",
   "language": "python",
   "name": "python3"
  },
  "language_info": {
   "codemirror_mode": {
    "name": "ipython",
    "version": 3
   },
   "file_extension": ".py",
   "mimetype": "text/x-python",
   "name": "python",
   "nbconvert_exporter": "python",
   "pygments_lexer": "ipython3",
   "version": "3.8.20"
  }
 },
 "nbformat": 4,
 "nbformat_minor": 5
}
